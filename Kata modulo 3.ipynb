{
 "cells": [
  {
   "cell_type": "markdown",
   "metadata": {},
   "source": [
    "## Primer problema"
   ]
  },
  {
   "cell_type": "code",
   "execution_count": 3,
   "metadata": {},
   "outputs": [
    {
     "name": "stdout",
     "output_type": "stream",
     "text": [
      "Programa para advertir de asteroides que representen un peligro para la Tierra\n",
      "Peligro! Asteroide acercandose a velocidad peligrosa\n"
     ]
    }
   ],
   "source": [
    "print (\"Programa para advertir de asteroides que representen un peligro para la Tierra\")\n",
    "asteroide=input(\"Introduzca la velocidad del asteroide en km/s: \")\n",
    "if int(asteroide)>25:\n",
    "    print(\"Peligro! Asteroide acercandose a velocidad peligrosa\")\n",
    "else:\n",
    "    print(\"Dia tranquilo\")"
   ]
  },
  {
   "cell_type": "markdown",
   "metadata": {},
   "source": [
    "## Segundo problema"
   ]
  },
  {
   "cell_type": "code",
   "execution_count": 10,
   "metadata": {},
   "outputs": [
    {
     "name": "stdout",
     "output_type": "stream",
     "text": [
      "Programa para la evaluacion de asteroides potencialmente peligrosos para la tierra\n",
      "Dia tranquilo\n"
     ]
    }
   ],
   "source": [
    "print(\"Programa para la evaluacion de asteroides potencialmente peligrosos para la tierra\")\n",
    "tamañoAsteroide=input(\"Introduzca el tamaño del asteroide en metros: \")\n",
    "velocidadAsteroide=input(\"Introduzca la velocidad del asteroide en km/s: \")\n",
    "if int(tamañoAsteroide)>25 and int(velocidadAsteroide)>25:\n",
    "    print(\"Peligro! Ateroide peligroso camino a la Tierra!\")\n",
    "elif int(velocidadAsteroide)>=20 and int(tamañoAsteroide)<25:\n",
    "    print(\"Disfruta el espectaculo de luces!\")\n",
    "else:\n",
    "    print(\"Dia tranquilo\")"
   ]
  }
 ],
 "metadata": {
  "interpreter": {
   "hash": "1166d2f2108d3d1671537b17c9e3289f09a8e2a84f10b47bdc43786cccffe5c6"
  },
  "kernelspec": {
   "display_name": "Python 3.10.2 64-bit (windows store)",
   "language": "python",
   "name": "python3"
  },
  "language_info": {
   "codemirror_mode": {
    "name": "ipython",
    "version": 3
   },
   "file_extension": ".py",
   "mimetype": "text/x-python",
   "name": "python",
   "nbconvert_exporter": "python",
   "pygments_lexer": "ipython3",
   "version": "3.10.2"
  },
  "orig_nbformat": 4
 },
 "nbformat": 4,
 "nbformat_minor": 2
}
