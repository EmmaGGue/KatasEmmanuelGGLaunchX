{
 "cells": [
  {
   "cell_type": "code",
   "execution_count": 1,
   "metadata": {},
   "outputs": [
    {
     "name": "stdout",
     "output_type": "stream",
     "text": [
      " \n",
      "On average, the Moon moves 4cm away from the Earth every year\n",
      " The highest daylight temperature of the Moon is 127 C\n",
      " \n",
      "On average, the Moon moves 4cm away from the Earth every year\n",
      " The highest daylight temperature of the Moon is 127 Celsius\n"
     ]
    }
   ],
   "source": [
    "text = \"\"\"Interesting facts about the Moon. The Moon is Earth's only satellite. There are several interesting facts about the Moon and how it affects life here on Earth. \n",
    "On average, the Moon moves 4cm away from the Earth every year. This yearly drift is not not significant enough to cause immediate effects on Earth. The highest daylight temperature of the Moon is 127 C.\"\"\"\n",
    "\n",
    "partesDelTexto=text.split('.')\n",
    "\n",
    "partesDelTexto\n",
    "\n",
    "claves=[\"average\",\"temperature\",\"distance\"]\n",
    "\n",
    "for sentence in partesDelTexto:\n",
    "    for clave in claves:\n",
    "        if clave in sentence:\n",
    "            print(sentence)\n",
    "            break\n",
    "\n",
    "for sentence in partesDelTexto:\n",
    "    for clave in claves:\n",
    "        if clave in sentence:\n",
    "            print(sentence.replace('C','Celsius'))\n",
    "            break\n",
    "\n"
   ]
  },
  {
   "cell_type": "markdown",
   "metadata": {},
   "source": [
    "## Ejercicio 2"
   ]
  },
  {
   "cell_type": "code",
   "execution_count": 7,
   "metadata": {},
   "outputs": [
    {
     "name": "stdout",
     "output_type": "stream",
     "text": [
      "Datos De Gravedad Sobre Ganímedes\n",
      "--------------------------------------------------------------------------------\n",
      "\n",
      "Nombre del planeta:Marte\n",
      "\n",
      "Gravedad en Ganímedes:1.4300000000000002 m/s2\n"
     ]
    }
   ],
   "source": [
    "#DATOS\n",
    "\n",
    "planeta= 'Marte'\n",
    "gravedad= 0.00143\n",
    "nombre= 'Ganímedes'\n",
    "\n",
    "#TITULO\n",
    "\n",
    "titulo= f'Datos de gravedad sobre {nombre}\\n'\n",
    "\n",
    "#PLANTILLA\n",
    "\n",
    "hechos=f\"\"\"{'-'*80}\\n\n",
    "Nombre del planeta:{planeta}\\n\n",
    "Gravedad en {nombre}:{gravedad*1000} m/s2\"\"\"\n",
    "\n",
    "template = f\"\"\"{titulo.title()}{hechos}\"\"\"\n",
    "print(template)\n"
   ]
  }
 ],
 "metadata": {
  "interpreter": {
   "hash": "d96eb19b80fbfa8503e23ee060bb535f66b62b0e778cbdde5260d6349e620913"
  },
  "kernelspec": {
   "display_name": "Python 3.10.2 64-bit",
   "language": "python",
   "name": "python3"
  },
  "language_info": {
   "codemirror_mode": {
    "name": "ipython",
    "version": 3
   },
   "file_extension": ".py",
   "mimetype": "text/x-python",
   "name": "python",
   "nbconvert_exporter": "python",
   "pygments_lexer": "ipython3",
   "version": "3.10.2"
  },
  "orig_nbformat": 4
 },
 "nbformat": 4,
 "nbformat_minor": 2
}
