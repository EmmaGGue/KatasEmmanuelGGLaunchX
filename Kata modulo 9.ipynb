{
 "cells": [
  {
   "cell_type": "markdown",
   "metadata": {},
   "source": [
    "## EJERCICIO 1"
   ]
  },
  {
   "cell_type": "code",
   "execution_count": 5,
   "metadata": {},
   "outputs": [
    {
     "name": "stdout",
     "output_type": "stream",
     "text": [
      "Reporte de combustible:\n",
      "        Combustible total: 40.0%\n",
      "\n",
      "        -------------------------------------------------------------------------------\n",
      "\n",
      "        Desgloce por tanques: \n",
      "\n",
      "        Tanque 1: 30%\n",
      "\n",
      "        Tanque 2: 20%\n",
      "\n",
      "        Tanque 3: 70%\n",
      "\n",
      "        \n",
      "Prueba funcion promedio de los valores 30,10 y 70\n",
      "36.666666666666664\n",
      "\n",
      "Reporte de combustible\n",
      "        Combustible total: 43.333333333333336%\n",
      "\n",
      "        -------------------------------------------------------------------------------\n",
      "\n",
      "        Desgloce por tanques: \n",
      "\n",
      "            Tanque 1: 50%\n",
      "\n",
      "            Tanque 2: 70%\n",
      "\n",
      "            Tanque 3: 10%\n",
      "\n",
      "            \n"
     ]
    }
   ],
   "source": [
    "#FUNCION QUE GENERA EL REPORTE\n",
    "\n",
    "def generar_reporte(tanque1, tanque2, tanque3) :\n",
    "    combustible_total = (tanque1+tanque2+tanque3)/3\n",
    "    return f\"\"\"Reporte de combustible:\n",
    "        Combustible total: {combustible_total}%\\n\n",
    "        {'-'*79}\\n\n",
    "        Desgloce por tanques: \\n\n",
    "        Tanque 1: {tanque1}%\\n\n",
    "        Tanque 2: {tanque2}%\\n\n",
    "        Tanque 3: {tanque3}%\\n\n",
    "        \"\"\"\n",
    "print(generar_reporte(30,20,70))\n",
    "\n",
    "#FUNCION QUE CALCULA EL PROMEDIO\n",
    "\n",
    "def promedio(values):\n",
    "    valor_total=sum(values)\n",
    "    objetos=len(values)\n",
    "    return valor_total/objetos\n",
    "\n",
    "#Prueba de la funcion promedio\n",
    "print('Prueba funcion promedio de los valores 30,10 y 70')\n",
    "print(promedio([30,10,70]))\n",
    "\n",
    "#NUEVA FUNCION DEL REPORTE\n",
    "\n",
    "def nueva_generar_reporte(tanque1,tanque2,tanque3) :\n",
    "    return f\"\"\"\\nReporte de combustible\n",
    "        Combustible total: {promedio([tanque1,tanque2,tanque3])}%\\n\n",
    "        {'-'*79}\\n\n",
    "        Desgloce por tanques: \\n\n",
    "            Tanque 1: {tanque1}%\\n\n",
    "            Tanque 2: {tanque2}%\\n\n",
    "            Tanque 3: {tanque3}%\\n\n",
    "            \"\"\"\n",
    "print (nueva_generar_reporte(50,70,10))"
   ]
  },
  {
   "cell_type": "markdown",
   "metadata": {},
   "source": [
    "## EJERCICIO 2"
   ]
  },
  {
   "cell_type": "code",
   "execution_count": 8,
   "metadata": {},
   "outputs": [
    {
     "name": "stdout",
     "output_type": "stream",
     "text": [
      "\n",
      "    Misión rumbo a: Luna\n",
      "    Tiempo de vuelo estimado: 74 minutos\n",
      "    Reserva de combustible 500000\n",
      "    Tanque principal tiene 300000 litros disponibles\n",
      "\n"
     ]
    }
   ],
   "source": [
    "def informe_de_mision (destino,*tiempo_vuelo, **reservas_de_combustible) :\n",
    "    reporte = f\"\"\"\n",
    "    Misión rumbo a: {destino}\n",
    "    Tiempo de vuelo estimado: {sum(tiempo_vuelo)} minutos\n",
    "    Reserva de combustible {sum(reservas_de_combustible.values())}\n",
    "    \"\"\"\n",
    "    for nombre_de_tanque, litro in reservas_de_combustible.items() :\n",
    "        reporte +=f\"Tanque .ñ--´|{nombre_de_tanque} tiene {litro} litros disponibles\\n\"\n",
    "        return reporte\n",
    "\n",
    "print(informe_de_mision(\"Luna\",8,11,55, principal=300000, externo=200000))"
   ]
  }
 ],
 "metadata": {
  "interpreter": {
   "hash": "d96eb19b80fbfa8503e23ee060bb535f66b62b0e778cbdde5260d6349e620913"
  },
  "kernelspec": {
   "display_name": "Python 3.10.2 64-bit",
   "language": "python",
   "name": "python3"
  },
  "language_info": {
   "codemirror_mode": {
    "name": "ipython",
    "version": 3
   },
   "file_extension": ".py",
   "mimetype": "text/x-python",
   "name": "python",
   "nbconvert_exporter": "python",
   "pygments_lexer": "ipython3",
   "version": "3.10.2"
  },
  "orig_nbformat": 4
 },
 "nbformat": 4,
 "nbformat_minor": 2
}
