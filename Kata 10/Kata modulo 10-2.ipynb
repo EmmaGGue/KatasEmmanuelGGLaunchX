{
 "cells": [
  {
   "cell_type": "code",
   "execution_count": 2,
   "metadata": {},
   "outputs": [
    {
     "name": "stdout",
     "output_type": "stream",
     "text": [
      "Prueba de la función water\n"
     ]
    },
    {
     "ename": "TypeError",
     "evalue": "All arguments must be of type int, but received: '3'",
     "output_type": "error",
     "traceback": [
      "\u001b[1;31m---------------------------------------------------------------------------\u001b[0m",
      "\u001b[1;31mTypeError\u001b[0m                                 Traceback (most recent call last)",
      "\u001b[1;32mc:\\Users\\Hp 745 G2\\Desktop\\Kata 10\\Kata modulo 10-2.ipynb Cell 1'\u001b[0m in \u001b[0;36mwater_left\u001b[1;34m(astronauts, water_left, days_left)\u001b[0m\n\u001b[0;32m      <a href='vscode-notebook-cell:/c%3A/Users/Hp%20745%20G2/Desktop/Kata%2010/Kata%20modulo%2010-2.ipynb#ch0000000?line=2'>3</a>\u001b[0m \u001b[39mtry\u001b[39;00m:\n\u001b[0;32m      <a href='vscode-notebook-cell:/c%3A/Users/Hp%20745%20G2/Desktop/Kata%2010/Kata%20modulo%2010-2.ipynb#ch0000000?line=3'>4</a>\u001b[0m     \u001b[39m# Si el argumento es un int, la siguente operacion funcionara\u001b[39;00m\n\u001b[1;32m----> <a href='vscode-notebook-cell:/c%3A/Users/Hp%20745%20G2/Desktop/Kata%2010/Kata%20modulo%2010-2.ipynb#ch0000000?line=4'>5</a>\u001b[0m     argument \u001b[39m/\u001b[39;49m \u001b[39m10\u001b[39;49m\n\u001b[0;32m      <a href='vscode-notebook-cell:/c%3A/Users/Hp%20745%20G2/Desktop/Kata%2010/Kata%20modulo%2010-2.ipynb#ch0000000?line=5'>6</a>\u001b[0m \u001b[39mexcept\u001b[39;00m \u001b[39mTypeError\u001b[39;00m:\n\u001b[0;32m      <a href='vscode-notebook-cell:/c%3A/Users/Hp%20745%20G2/Desktop/Kata%2010/Kata%20modulo%2010-2.ipynb#ch0000000?line=6'>7</a>\u001b[0m     \u001b[39m# TypError se activara solo si no es del tipo correcto\u001b[39;00m\n\u001b[0;32m      <a href='vscode-notebook-cell:/c%3A/Users/Hp%20745%20G2/Desktop/Kata%2010/Kata%20modulo%2010-2.ipynb#ch0000000?line=7'>8</a>\u001b[0m     \u001b[39m# Muestra la misma excepcion, pero con un mensaje de error mejor\u001b[39;00m\n",
      "\u001b[1;31mTypeError\u001b[0m: unsupported operand type(s) for /: 'str' and 'int'",
      "\nDuring handling of the above exception, another exception occurred:\n",
      "\u001b[1;31mTypeError\u001b[0m                                 Traceback (most recent call last)",
      "\u001b[1;32mc:\\Users\\Hp 745 G2\\Desktop\\Kata 10\\Kata modulo 10-2.ipynb Cell 1'\u001b[0m in \u001b[0;36m<module>\u001b[1;34m\u001b[0m\n\u001b[0;32m     <a href='vscode-notebook-cell:/c%3A/Users/Hp%20745%20G2/Desktop/Kata%2010/Kata%20modulo%2010-2.ipynb#ch0000000?line=14'>15</a>\u001b[0m     \u001b[39mreturn\u001b[39;00m \u001b[39mf\u001b[39m\u001b[39m\"\u001b[39m\u001b[39mTotal water left after \u001b[39m\u001b[39m{\u001b[39;00mdays_left\u001b[39m}\u001b[39;00m\u001b[39m days is: \u001b[39m\u001b[39m{\u001b[39;00mtotal_water_left\u001b[39m}\u001b[39;00m\u001b[39m liters\u001b[39m\u001b[39m\"\u001b[39m\n\u001b[0;32m     <a href='vscode-notebook-cell:/c%3A/Users/Hp%20745%20G2/Desktop/Kata%2010/Kata%20modulo%2010-2.ipynb#ch0000000?line=16'>17</a>\u001b[0m \u001b[39mprint\u001b[39m(\u001b[39m'\u001b[39m\u001b[39mPrueba de la función water\u001b[39m\u001b[39m'\u001b[39m)\n\u001b[1;32m---> <a href='vscode-notebook-cell:/c%3A/Users/Hp%20745%20G2/Desktop/Kata%2010/Kata%20modulo%2010-2.ipynb#ch0000000?line=18'>19</a>\u001b[0m \u001b[39mprint\u001b[39m(water_left(\u001b[39m\"\u001b[39;49m\u001b[39m3\u001b[39;49m\u001b[39m\"\u001b[39;49m,\u001b[39m\"\u001b[39;49m\u001b[39m200\u001b[39;49m\u001b[39m\"\u001b[39;49m,\u001b[39mNone\u001b[39;49;00m))\n",
      "\u001b[1;32mc:\\Users\\Hp 745 G2\\Desktop\\Kata 10\\Kata modulo 10-2.ipynb Cell 1'\u001b[0m in \u001b[0;36mwater_left\u001b[1;34m(astronauts, water_left, days_left)\u001b[0m\n\u001b[0;32m      <a href='vscode-notebook-cell:/c%3A/Users/Hp%20745%20G2/Desktop/Kata%2010/Kata%20modulo%2010-2.ipynb#ch0000000?line=4'>5</a>\u001b[0m         argument \u001b[39m/\u001b[39m \u001b[39m10\u001b[39m\n\u001b[0;32m      <a href='vscode-notebook-cell:/c%3A/Users/Hp%20745%20G2/Desktop/Kata%2010/Kata%20modulo%2010-2.ipynb#ch0000000?line=5'>6</a>\u001b[0m     \u001b[39mexcept\u001b[39;00m \u001b[39mTypeError\u001b[39;00m:\n\u001b[0;32m      <a href='vscode-notebook-cell:/c%3A/Users/Hp%20745%20G2/Desktop/Kata%2010/Kata%20modulo%2010-2.ipynb#ch0000000?line=6'>7</a>\u001b[0m         \u001b[39m# TypError se activara solo si no es del tipo correcto\u001b[39;00m\n\u001b[0;32m      <a href='vscode-notebook-cell:/c%3A/Users/Hp%20745%20G2/Desktop/Kata%2010/Kata%20modulo%2010-2.ipynb#ch0000000?line=7'>8</a>\u001b[0m         \u001b[39m# Muestra la misma excepcion, pero con un mensaje de error mejor\u001b[39;00m\n\u001b[1;32m----> <a href='vscode-notebook-cell:/c%3A/Users/Hp%20745%20G2/Desktop/Kata%2010/Kata%20modulo%2010-2.ipynb#ch0000000?line=8'>9</a>\u001b[0m         \u001b[39mraise\u001b[39;00m \u001b[39mTypeError\u001b[39;00m(\u001b[39mf\u001b[39m\u001b[39m\"\u001b[39m\u001b[39mAll arguments must be of type int, but received: \u001b[39m\u001b[39m'\u001b[39m\u001b[39m{\u001b[39;00margument\u001b[39m}\u001b[39;00m\u001b[39m'\u001b[39m\u001b[39m\"\u001b[39m)\n\u001b[0;32m     <a href='vscode-notebook-cell:/c%3A/Users/Hp%20745%20G2/Desktop/Kata%2010/Kata%20modulo%2010-2.ipynb#ch0000000?line=9'>10</a>\u001b[0m daily_usage \u001b[39m=\u001b[39m astronauts \u001b[39m*\u001b[39m \u001b[39m11\u001b[39m\n\u001b[0;32m     <a href='vscode-notebook-cell:/c%3A/Users/Hp%20745%20G2/Desktop/Kata%2010/Kata%20modulo%2010-2.ipynb#ch0000000?line=10'>11</a>\u001b[0m total_usage \u001b[39m=\u001b[39m daily_usage \u001b[39m*\u001b[39m days_left\n",
      "\u001b[1;31mTypeError\u001b[0m: All arguments must be of type int, but received: '3'"
     ]
    }
   ],
   "source": [
    "def water_left(astronauts, water_left, days_left):\n",
    "    for argument in [astronauts, water_left, days_left]:\n",
    "        try:\n",
    "            # Si el argumento es un int, la siguente operacion funcionara\n",
    "            argument / 10\n",
    "        except TypeError:\n",
    "            # TypError se activara solo si no es del tipo correcto\n",
    "            # Muestra la misma excepcion, pero con un mensaje de error mejor\n",
    "            raise TypeError(f\"All arguments must be of type int, but received: '{argument}'\")\n",
    "    daily_usage = astronauts * 11\n",
    "    total_usage = daily_usage * days_left\n",
    "    total_water_left = water_left - total_usage\n",
    "    if total_water_left < 0:\n",
    "        raise RuntimeError(f\"There is not enough water for {astronauts} astronauts after {days_left} days!\")\n",
    "    return f\"Total water left after {days_left} days is: {total_water_left} liters\"\n",
    "\n"
   ]
  }
 ],
 "metadata": {
  "interpreter": {
   "hash": "1166d2f2108d3d1671537b17c9e3289f09a8e2a84f10b47bdc43786cccffe5c6"
  },
  "kernelspec": {
   "display_name": "Python 3.10.2 64-bit (windows store)",
   "language": "python",
   "name": "python3"
  },
  "language_info": {
   "codemirror_mode": {
    "name": "ipython",
    "version": 3
   },
   "file_extension": ".py",
   "mimetype": "text/x-python",
   "name": "python",
   "nbconvert_exporter": "python",
   "pygments_lexer": "ipython3",
   "version": "3.10.2"
  },
  "orig_nbformat": 4
 },
 "nbformat": 4,
 "nbformat_minor": 2
}
