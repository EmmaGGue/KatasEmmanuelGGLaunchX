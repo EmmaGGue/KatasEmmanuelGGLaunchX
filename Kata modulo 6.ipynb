{
 "cells": [
  {
   "cell_type": "markdown",
   "metadata": {},
   "source": [
    "## EJERCICIO 1"
   ]
  },
  {
   "cell_type": "code",
   "execution_count": 2,
   "metadata": {},
   "outputs": [
    {
     "name": "stdout",
     "output_type": "stream",
     "text": [
      "['Mercurio', 'Venus', 'Tierra', 'Marte', 'Júpiter', 'Saturno', 'Urano', 'Neptuno']\n",
      "Plutón\n"
     ]
    }
   ],
   "source": [
    "#Crear la lista y mostrarla\n",
    "planets = ['Mercurio','Venus','Tierra','Marte','Júpiter','Saturno','Urano','Neptuno']\n",
    "\n",
    "print(planets)\n",
    "\n",
    "#Agregar a Plutón\n",
    "\n",
    "planets.append('Plutón')\n",
    "\n",
    "print(planets[-1])\n"
   ]
  },
  {
   "cell_type": "markdown",
   "metadata": {},
   "source": [
    "## SEGUNDO EJERCICIO"
   ]
  },
  {
   "cell_type": "code",
   "execution_count": 1,
   "metadata": {},
   "outputs": [
    {
     "name": "stdout",
     "output_type": "stream",
     "text": [
      "Planetas mas cercanos al sol que: Marte\n",
      "['Mercurio', 'Venus', 'Tierra']\n",
      "Planetas mas lejanos al sol que: Marte\n",
      "['Júpiter', 'Saturno', 'Urano', 'Neptuno']\n"
     ]
    }
   ],
   "source": [
    "planets = ['Mercurio','Venus','Tierra','Marte','Júpiter','Saturno','Urano','Neptuno']\n",
    "planeta = input('Ingrese el nombre del planeta que desea tomar como base, iniciando con mayuscula\\n')\n",
    "\n",
    "\n",
    "buscar_planeta = planets.index(planeta)\n",
    "\n",
    "print('Planetas mas cercanos al sol que: ' + planeta)\n",
    "print(planets[0:buscar_planeta])\n",
    "print('Planetas mas lejanos al sol que: ' + planeta)\n",
    "print(planets[buscar_planeta+1:])\n"
   ]
  }
 ],
 "metadata": {
  "interpreter": {
   "hash": "d96eb19b80fbfa8503e23ee060bb535f66b62b0e778cbdde5260d6349e620913"
  },
  "kernelspec": {
   "display_name": "Python 3.10.2 64-bit",
   "language": "python",
   "name": "python3"
  },
  "language_info": {
   "codemirror_mode": {
    "name": "ipython",
    "version": 3
   },
   "file_extension": ".py",
   "mimetype": "text/x-python",
   "name": "python",
   "nbconvert_exporter": "python",
   "pygments_lexer": "ipython3",
   "version": "3.10.2"
  },
  "orig_nbformat": 4
 },
 "nbformat": 4,
 "nbformat_minor": 2
}
