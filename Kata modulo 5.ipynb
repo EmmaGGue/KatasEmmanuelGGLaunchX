{
 "cells": [
  {
   "cell_type": "markdown",
   "metadata": {},
   "source": [
    "## Ejercicio 1"
   ]
  },
  {
   "cell_type": "code",
   "execution_count": 9,
   "metadata": {},
   "outputs": [
    {
     "name": "stdout",
     "output_type": "stream",
     "text": [
      "Programa Que Calcula La Distancia Entre La Tierra Y Júpiter\n",
      "--------------------------------------------------------------------------------\n",
      "\n",
      "Distancia de la Tierra: 149597870 km \n",
      "\n",
      "Distancia de Júpiter: 778547200 km \n",
      "\n",
      "Distancia entre la Tierra y Júpiter 628949330 km\n",
      "\n",
      "\n",
      "--------------------------------------------------------------------------------\n",
      "\n",
      "Distancia de la Tierra: 92900277.27 millas \n",
      "\n",
      "Distancia de Jupiter: 483477811.2 millas \n",
      "\n",
      "La distancia entre la Tierra y Júpiter es 390577533.93 millas\n"
     ]
    }
   ],
   "source": [
    "#DATOS\n",
    "\n",
    "distanciaTierra=149597870\n",
    "distanciaJupiter=778547200\n",
    "\n",
    "#TITULO\n",
    "\n",
    "titulo = 'Programa que calcula la distancia entre la Tierra y Júpiter\\n'\n",
    "\n",
    "datosEnKm=f\"\"\"{'-'*80}\\n\n",
    "Distancia de la Tierra: {distanciaTierra} km \\n\n",
    "Distancia de Júpiter: {distanciaJupiter} km \\n\n",
    "Distancia entre la Tierra y Júpiter {distanciaJupiter-distanciaTierra} km\\n\n",
    "\"\"\"\n",
    "\n",
    "template=f\"\"\"{titulo.title()}{datosEnKm}\"\"\"\n",
    "print(template)\n",
    "\n",
    "distanciaJupiterMillas=distanciaJupiter*0.621\n",
    "distanciaTierraMillas=distanciaTierra*0.621\n",
    "datosEnMillas=f\"\"\"{'-'*80}\\n\n",
    "Distancia de la Tierra: {distanciaTierraMillas} millas \\n\n",
    "Distancia de Jupiter: {distanciaJupiterMillas} millas \\n\n",
    "La distancia entre la Tierra y Júpiter es {distanciaJupiterMillas-distanciaTierraMillas} millas\"\"\"\n",
    "\n",
    "print(datosEnMillas)|                                           11111"
   ]
  },
  {
   "cell_type": "markdown",
   "metadata": {},
   "source": [
    "## Ejercicio 2"
   ]
  },
  {
   "cell_type": "code",
   "execution_count": 11,
   "metadata": {},
   "outputs": [
    {
     "name": "stdout",
     "output_type": "stream",
     "text": [
      "Distancia Entre Mercurio Y Venus\n",
      "--------------------------------------------------------------------------------\n",
      "\n",
      "Mercurio : 57900000\n",
      "\n",
      "Venus : 108200000\n",
      "\n",
      "Distancia : 50300000 Kilometros \n",
      "\n",
      "            31236300.0 millas\n",
      "\n",
      "\n"
     ]
    }
   ],
   "source": [
    "title = 'Programa que calcula la distancia entre dos planetas\\n'\n",
    "\n",
    "nombre_primer_planeta = input('Introduzca el nombre del primer planeta: \\n')\n",
    "distancia_primer_planeta = int(input('Introduzca la distancia al sol del primer planeta\\n'))\n",
    "nombre_segundo_planeta = input('Introduzca el nombre del segundo planeta\\n')\n",
    "distancia_segundo_planeta=int(input('Introduzca la distancia al sol del segundo planeta\\n'))\n",
    "\n",
    "distancia_km=distancia_primer_planeta-distancia_segundo_planeta\n",
    "distancia_km = abs(distancia_km)\n",
    "distancia_millas = distancia_km * 0.621\n",
    "\n",
    "encabezado = f'Distancia entre {nombre_primer_planeta} y {nombre_segundo_planeta}\\n'\n",
    "distancia = f\"\"\"{'-'*80}\\n\n",
    "{nombre_primer_planeta} : {distancia_primer_planeta} km\\n\n",
    "{nombre_segundo_planeta} : {distancia_segundo_planeta} km\\n\n",
    "Distancia : {distancia_km} Kilometros \\n\n",
    "            {distancia_millas} millas\\n\n",
    "\"\"\"\n",
    "plantilla = f\"\"\"{encabezado.title()}{distancia}\"\"\"\n",
    "\n",
    "print(plantilla)"
   ]
  }
 ],
 "metadata": {
  "interpreter": {
   "hash": "d96eb19b80fbfa8503e23ee060bb535f66b62b0e778cbdde5260d6349e620913"
  },
  "kernelspec": {
   "display_name": "Python 3.10.2 64-bit",
   "language": "python",
   "name": "python3"
  },
  "language_info": {
   "codemirror_mode": {
    "name": "ipython",
    "version": 3
   },
   "file_extension": ".py",
   "mimetype": "text/x-python",
   "name": "python",
   "nbconvert_exporter": "python",
   "pygments_lexer": "ipython3",
   "version": "3.10.2"
  },
  "orig_nbformat": 4
 },
 "nbformat": 4,
 "nbformat_minor": 2
}
