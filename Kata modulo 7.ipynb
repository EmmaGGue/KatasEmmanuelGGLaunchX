{
 "cells": [
  {
   "cell_type": "markdown",
   "metadata": {},
   "source": [
    "## EJERCICIO 1 Y 2"
   ]
  },
  {
   "cell_type": "code",
   "execution_count": 2,
   "metadata": {},
   "outputs": [
    {
     "name": "stdout",
     "output_type": "stream",
     "text": [
      "Los planetas que ingresó son: \n",
      "\n",
      "Mercurio\n",
      "Venus\n",
      "Tierra\n",
      "Marte\n",
      "Programa finalizado\n"
     ]
    }
   ],
   "source": [
    "from time import sleep\n",
    "#variables\n",
    "new_planet= input('')\n",
    "#lista\n",
    "planets = []\n",
    "#ciclo while\n",
    "\n",
    "while new_planet.lower() != 'done':\n",
    "    if new_planet:\n",
    "        planets.append(new_planet)\n",
    "    new_planet=input('Ingrese el nombre de un planeta, para terminar escriba \"done\":\\n')\n",
    "\n",
    "\n",
    "#EJERCICIO 2\n",
    "\n",
    "print('Los planetas que ingresó son: \\n')\n",
    "for l in planets:\n",
    "    print(l)\n",
    "    sleep(1)\n",
    "print('Programa finalizado')\n"
   ]
  }
 ],
 "metadata": {
  "interpreter": {
   "hash": "d96eb19b80fbfa8503e23ee060bb535f66b62b0e778cbdde5260d6349e620913"
  },
  "kernelspec": {
   "display_name": "Python 3.10.2 64-bit",
   "language": "python",
   "name": "python3"
  },
  "language_info": {
   "codemirror_mode": {
    "name": "ipython",
    "version": 3
   },
   "file_extension": ".py",
   "mimetype": "text/x-python",
   "name": "python",
   "nbconvert_exporter": "python",
   "pygments_lexer": "ipython3",
   "version": "3.10.2"
  },
  "orig_nbformat": 4
 },
 "nbformat": 4,
 "nbformat_minor": 2
}
